{
 "cells": [
  {
   "cell_type": "markdown",
   "id": "2b562bd1",
   "metadata": {},
   "source": [
    "# Predicting closing price using a multi variable Linear regression model"
   ]
  },
  {
   "cell_type": "markdown",
   "id": "f7f50272",
   "metadata": {},
   "source": [
    "# Import the needed Libraries"
   ]
  },
  {
   "cell_type": "code",
   "execution_count": 1,
   "id": "f45b2c4d",
   "metadata": {},
   "outputs": [],
   "source": [
    "%matplotlib inline\n",
    "import numpy as np\n",
    "import pandas as pd\n",
    "import matplotlib.pyplot as plt\n",
    "import seaborn as sns\n",
    "import math"
   ]
  },
  {
   "cell_type": "markdown",
   "id": "7bdec90d",
   "metadata": {},
   "source": [
    "# Import our Shiba inu data file"
   ]
  },
  {
   "cell_type": "code",
   "execution_count": 2,
   "id": "690b5c6d",
   "metadata": {},
   "outputs": [
    {
     "data": {
      "text/html": [
       "<div>\n",
       "<style scoped>\n",
       "    .dataframe tbody tr th:only-of-type {\n",
       "        vertical-align: middle;\n",
       "    }\n",
       "\n",
       "    .dataframe tbody tr th {\n",
       "        vertical-align: top;\n",
       "    }\n",
       "\n",
       "    .dataframe thead th {\n",
       "        text-align: right;\n",
       "    }\n",
       "</style>\n",
       "<table border=\"1\" class=\"dataframe\">\n",
       "  <thead>\n",
       "    <tr style=\"text-align: right;\">\n",
       "      <th></th>\n",
       "      <th>Open</th>\n",
       "      <th>High</th>\n",
       "      <th>Low</th>\n",
       "      <th>Close</th>\n",
       "      <th>Adj Close</th>\n",
       "      <th>Volume</th>\n",
       "    </tr>\n",
       "    <tr>\n",
       "      <th>Date</th>\n",
       "      <th></th>\n",
       "      <th></th>\n",
       "      <th></th>\n",
       "      <th></th>\n",
       "      <th></th>\n",
       "      <th></th>\n",
       "    </tr>\n",
       "  </thead>\n",
       "  <tbody>\n",
       "    <tr>\n",
       "      <th>2021-10-14</th>\n",
       "      <td>0.000029</td>\n",
       "      <td>0.000030</td>\n",
       "      <td>0.000027</td>\n",
       "      <td>0.000027</td>\n",
       "      <td>0.000027</td>\n",
       "      <td>2727081948</td>\n",
       "    </tr>\n",
       "    <tr>\n",
       "      <th>2021-10-15</th>\n",
       "      <td>0.000027</td>\n",
       "      <td>0.000027</td>\n",
       "      <td>0.000023</td>\n",
       "      <td>0.000025</td>\n",
       "      <td>0.000025</td>\n",
       "      <td>4121246428</td>\n",
       "    </tr>\n",
       "    <tr>\n",
       "      <th>2021-10-16</th>\n",
       "      <td>0.000025</td>\n",
       "      <td>0.000027</td>\n",
       "      <td>0.000025</td>\n",
       "      <td>0.000026</td>\n",
       "      <td>0.000026</td>\n",
       "      <td>1871226740</td>\n",
       "    </tr>\n",
       "    <tr>\n",
       "      <th>2021-10-17</th>\n",
       "      <td>0.000026</td>\n",
       "      <td>0.000029</td>\n",
       "      <td>0.000024</td>\n",
       "      <td>0.000028</td>\n",
       "      <td>0.000028</td>\n",
       "      <td>2304858857</td>\n",
       "    </tr>\n",
       "    <tr>\n",
       "      <th>2021-10-18</th>\n",
       "      <td>0.000028</td>\n",
       "      <td>0.000030</td>\n",
       "      <td>0.000026</td>\n",
       "      <td>0.000029</td>\n",
       "      <td>0.000029</td>\n",
       "      <td>3919367323</td>\n",
       "    </tr>\n",
       "  </tbody>\n",
       "</table>\n",
       "</div>"
      ],
      "text/plain": [
       "                Open      High       Low     Close  Adj Close      Volume\n",
       "Date                                                                     \n",
       "2021-10-14  0.000029  0.000030  0.000027  0.000027   0.000027  2727081948\n",
       "2021-10-15  0.000027  0.000027  0.000023  0.000025   0.000025  4121246428\n",
       "2021-10-16  0.000025  0.000027  0.000025  0.000026   0.000026  1871226740\n",
       "2021-10-17  0.000026  0.000029  0.000024  0.000028   0.000028  2304858857\n",
       "2021-10-18  0.000028  0.000030  0.000026  0.000029   0.000029  3919367323"
      ]
     },
     "execution_count": 2,
     "metadata": {},
     "output_type": "execute_result"
    }
   ],
   "source": [
    "df = pd.read_csv('./desktop/SHIB-USD.csv', index_col = 'Date', parse_dates= True)\n",
    "df.head()"
   ]
  },
  {
   "cell_type": "markdown",
   "id": "da18f9c8",
   "metadata": {},
   "source": [
    "# Check that there are no null columns"
   ]
  },
  {
   "cell_type": "code",
   "execution_count": 3,
   "id": "147ff9a4",
   "metadata": {},
   "outputs": [
    {
     "data": {
      "text/html": [
       "<div>\n",
       "<style scoped>\n",
       "    .dataframe tbody tr th:only-of-type {\n",
       "        vertical-align: middle;\n",
       "    }\n",
       "\n",
       "    .dataframe tbody tr th {\n",
       "        vertical-align: top;\n",
       "    }\n",
       "\n",
       "    .dataframe thead th {\n",
       "        text-align: right;\n",
       "    }\n",
       "</style>\n",
       "<table border=\"1\" class=\"dataframe\">\n",
       "  <thead>\n",
       "    <tr style=\"text-align: right;\">\n",
       "      <th></th>\n",
       "      <th>Open</th>\n",
       "      <th>High</th>\n",
       "      <th>Low</th>\n",
       "      <th>Close</th>\n",
       "      <th>Adj Close</th>\n",
       "      <th>Volume</th>\n",
       "    </tr>\n",
       "    <tr>\n",
       "      <th>Date</th>\n",
       "      <th></th>\n",
       "      <th></th>\n",
       "      <th></th>\n",
       "      <th></th>\n",
       "      <th></th>\n",
       "      <th></th>\n",
       "    </tr>\n",
       "  </thead>\n",
       "  <tbody>\n",
       "  </tbody>\n",
       "</table>\n",
       "</div>"
      ],
      "text/plain": [
       "Empty DataFrame\n",
       "Columns: [Open, High, Low, Close, Adj Close, Volume]\n",
       "Index: []"
      ]
     },
     "execution_count": 3,
     "metadata": {},
     "output_type": "execute_result"
    }
   ],
   "source": [
    "nandf = df[df.isna().any(axis= 1)]\n",
    "nandf.head()"
   ]
  },
  {
   "cell_type": "markdown",
   "id": "5ab738b5",
   "metadata": {},
   "source": [
    "# Create EMA 10, 20 columns for shiba opening prices"
   ]
  },
  {
   "cell_type": "code",
   "execution_count": 16,
   "id": "9d59020e",
   "metadata": {},
   "outputs": [],
   "source": [
    "df['EMA10'] = df['Open'].ewm(span=10).mean()\n"
   ]
  },
  {
   "cell_type": "code",
   "execution_count": 17,
   "id": "b04a6403",
   "metadata": {},
   "outputs": [],
   "source": [
    "df['EMA20'] = df['Open'].ewm(span=20).mean()"
   ]
  },
  {
   "cell_type": "markdown",
   "id": "a7f48dda",
   "metadata": {},
   "source": [
    "# Find the strongest correlation"
   ]
  },
  {
   "cell_type": "code",
   "execution_count": 19,
   "id": "dc3ff9e1",
   "metadata": {},
   "outputs": [],
   "source": [
    "corr_df = df.corr()"
   ]
  },
  {
   "cell_type": "code",
   "execution_count": 20,
   "id": "51d24172",
   "metadata": {},
   "outputs": [
    {
     "data": {
      "text/html": [
       "<div>\n",
       "<style scoped>\n",
       "    .dataframe tbody tr th:only-of-type {\n",
       "        vertical-align: middle;\n",
       "    }\n",
       "\n",
       "    .dataframe tbody tr th {\n",
       "        vertical-align: top;\n",
       "    }\n",
       "\n",
       "    .dataframe thead th {\n",
       "        text-align: right;\n",
       "    }\n",
       "</style>\n",
       "<table border=\"1\" class=\"dataframe\">\n",
       "  <thead>\n",
       "    <tr style=\"text-align: right;\">\n",
       "      <th></th>\n",
       "      <th>Open</th>\n",
       "      <th>High</th>\n",
       "      <th>Low</th>\n",
       "      <th>Close</th>\n",
       "      <th>Adj Close</th>\n",
       "      <th>Volume</th>\n",
       "      <th>Price_pred</th>\n",
       "      <th>EMA10</th>\n",
       "      <th>EMA20</th>\n",
       "    </tr>\n",
       "  </thead>\n",
       "  <tbody>\n",
       "    <tr>\n",
       "      <th>Open</th>\n",
       "      <td>1.000000</td>\n",
       "      <td>0.984873</td>\n",
       "      <td>0.990047</td>\n",
       "      <td>0.979596</td>\n",
       "      <td>0.979596</td>\n",
       "      <td>0.565689</td>\n",
       "      <td>0.982192</td>\n",
       "      <td>0.968096</td>\n",
       "      <td>0.942800</td>\n",
       "    </tr>\n",
       "    <tr>\n",
       "      <th>High</th>\n",
       "      <td>0.984873</td>\n",
       "      <td>1.000000</td>\n",
       "      <td>0.980121</td>\n",
       "      <td>0.993912</td>\n",
       "      <td>0.993912</td>\n",
       "      <td>0.671046</td>\n",
       "      <td>0.996546</td>\n",
       "      <td>0.947508</td>\n",
       "      <td>0.921052</td>\n",
       "    </tr>\n",
       "    <tr>\n",
       "      <th>Low</th>\n",
       "      <td>0.990047</td>\n",
       "      <td>0.980121</td>\n",
       "      <td>1.000000</td>\n",
       "      <td>0.986136</td>\n",
       "      <td>0.986136</td>\n",
       "      <td>0.530085</td>\n",
       "      <td>0.988749</td>\n",
       "      <td>0.970611</td>\n",
       "      <td>0.949386</td>\n",
       "    </tr>\n",
       "    <tr>\n",
       "      <th>Close</th>\n",
       "      <td>0.979596</td>\n",
       "      <td>0.993912</td>\n",
       "      <td>0.986136</td>\n",
       "      <td>1.000000</td>\n",
       "      <td>1.000000</td>\n",
       "      <td>0.635300</td>\n",
       "      <td>0.997357</td>\n",
       "      <td>0.950651</td>\n",
       "      <td>0.926551</td>\n",
       "    </tr>\n",
       "    <tr>\n",
       "      <th>Adj Close</th>\n",
       "      <td>0.979596</td>\n",
       "      <td>0.993912</td>\n",
       "      <td>0.986136</td>\n",
       "      <td>1.000000</td>\n",
       "      <td>1.000000</td>\n",
       "      <td>0.635300</td>\n",
       "      <td>0.997357</td>\n",
       "      <td>0.950651</td>\n",
       "      <td>0.926551</td>\n",
       "    </tr>\n",
       "    <tr>\n",
       "      <th>Volume</th>\n",
       "      <td>0.565689</td>\n",
       "      <td>0.671046</td>\n",
       "      <td>0.530085</td>\n",
       "      <td>0.635300</td>\n",
       "      <td>0.635300</td>\n",
       "      <td>1.000000</td>\n",
       "      <td>0.636848</td>\n",
       "      <td>0.441647</td>\n",
       "      <td>0.398742</td>\n",
       "    </tr>\n",
       "    <tr>\n",
       "      <th>Price_pred</th>\n",
       "      <td>0.982192</td>\n",
       "      <td>0.996546</td>\n",
       "      <td>0.988749</td>\n",
       "      <td>0.997357</td>\n",
       "      <td>0.997357</td>\n",
       "      <td>0.636848</td>\n",
       "      <td>1.000000</td>\n",
       "      <td>0.952995</td>\n",
       "      <td>0.929105</td>\n",
       "    </tr>\n",
       "    <tr>\n",
       "      <th>EMA10</th>\n",
       "      <td>0.968096</td>\n",
       "      <td>0.947508</td>\n",
       "      <td>0.970611</td>\n",
       "      <td>0.950651</td>\n",
       "      <td>0.950651</td>\n",
       "      <td>0.441647</td>\n",
       "      <td>0.952995</td>\n",
       "      <td>1.000000</td>\n",
       "      <td>0.992577</td>\n",
       "    </tr>\n",
       "    <tr>\n",
       "      <th>EMA20</th>\n",
       "      <td>0.942800</td>\n",
       "      <td>0.921052</td>\n",
       "      <td>0.949386</td>\n",
       "      <td>0.926551</td>\n",
       "      <td>0.926551</td>\n",
       "      <td>0.398742</td>\n",
       "      <td>0.929105</td>\n",
       "      <td>0.992577</td>\n",
       "      <td>1.000000</td>\n",
       "    </tr>\n",
       "  </tbody>\n",
       "</table>\n",
       "</div>"
      ],
      "text/plain": [
       "                Open      High       Low     Close  Adj Close    Volume  \\\n",
       "Open        1.000000  0.984873  0.990047  0.979596   0.979596  0.565689   \n",
       "High        0.984873  1.000000  0.980121  0.993912   0.993912  0.671046   \n",
       "Low         0.990047  0.980121  1.000000  0.986136   0.986136  0.530085   \n",
       "Close       0.979596  0.993912  0.986136  1.000000   1.000000  0.635300   \n",
       "Adj Close   0.979596  0.993912  0.986136  1.000000   1.000000  0.635300   \n",
       "Volume      0.565689  0.671046  0.530085  0.635300   0.635300  1.000000   \n",
       "Price_pred  0.982192  0.996546  0.988749  0.997357   0.997357  0.636848   \n",
       "EMA10       0.968096  0.947508  0.970611  0.950651   0.950651  0.441647   \n",
       "EMA20       0.942800  0.921052  0.949386  0.926551   0.926551  0.398742   \n",
       "\n",
       "            Price_pred     EMA10     EMA20  \n",
       "Open          0.982192  0.968096  0.942800  \n",
       "High          0.996546  0.947508  0.921052  \n",
       "Low           0.988749  0.970611  0.949386  \n",
       "Close         0.997357  0.950651  0.926551  \n",
       "Adj Close     0.997357  0.950651  0.926551  \n",
       "Volume        0.636848  0.441647  0.398742  \n",
       "Price_pred    1.000000  0.952995  0.929105  \n",
       "EMA10         0.952995  1.000000  0.992577  \n",
       "EMA20         0.929105  0.992577  1.000000  "
      ]
     },
     "execution_count": 20,
     "metadata": {},
     "output_type": "execute_result"
    }
   ],
   "source": [
    "corr_df"
   ]
  },
  {
   "cell_type": "markdown",
   "id": "4c9797d9",
   "metadata": {},
   "source": [
    "# Using Sklearn"
   ]
  },
  {
   "cell_type": "code",
   "execution_count": 21,
   "id": "1a70587c",
   "metadata": {},
   "outputs": [],
   "source": [
    "from sklearn.linear_model import LinearRegression\n",
    "from sklearn.metrics import mean_squared_error"
   ]
  },
  {
   "cell_type": "markdown",
   "id": "4c7577ec",
   "metadata": {},
   "source": [
    "# Assign values to our X and Y variables"
   ]
  },
  {
   "cell_type": "code",
   "execution_count": 22,
   "id": "48ea3480",
   "metadata": {},
   "outputs": [],
   "source": [
    "X = df[['Open', 'EMA10', 'EMA20']]\n",
    "Y = df['Close']"
   ]
  },
  {
   "cell_type": "markdown",
   "id": "808a3c7a",
   "metadata": {},
   "source": [
    "# Create model"
   ]
  },
  {
   "cell_type": "code",
   "execution_count": 23,
   "id": "df76a595",
   "metadata": {},
   "outputs": [],
   "source": [
    "reg = LinearRegression()"
   ]
  },
  {
   "cell_type": "code",
   "execution_count": 24,
   "id": "f35e468b",
   "metadata": {},
   "outputs": [],
   "source": [
    "reg = reg.fit(X, Y)"
   ]
  },
  {
   "cell_type": "markdown",
   "id": "8d07729f",
   "metadata": {},
   "source": [
    "# Finding our M- Coefficient and C - Intercept"
   ]
  },
  {
   "cell_type": "code",
   "execution_count": 25,
   "id": "c615b64c",
   "metadata": {},
   "outputs": [
    {
     "name": "stdout",
     "output_type": "stream",
     "text": [
      "M = [0.94528367 0.03124986 0.00572952]\n",
      "C = 3.3296511245381114e-07\n"
     ]
    }
   ],
   "source": [
    "print('M =', reg.coef_)\n",
    "print('C =', reg.intercept_)"
   ]
  },
  {
   "cell_type": "markdown",
   "id": "47f47c04",
   "metadata": {},
   "source": [
    "# Making Price predictions"
   ]
  },
  {
   "cell_type": "code",
   "execution_count": 26,
   "id": "f03363dd",
   "metadata": {},
   "outputs": [],
   "source": [
    "Y_pred = reg.predict(X)\n",
    "Y_pred = Y_pred.astype('str')\n"
   ]
  },
  {
   "cell_type": "code",
   "execution_count": 27,
   "id": "5e3b3eab",
   "metadata": {},
   "outputs": [
    {
     "data": {
      "text/html": [
       "<div>\n",
       "<style scoped>\n",
       "    .dataframe tbody tr th:only-of-type {\n",
       "        vertical-align: middle;\n",
       "    }\n",
       "\n",
       "    .dataframe tbody tr th {\n",
       "        vertical-align: top;\n",
       "    }\n",
       "\n",
       "    .dataframe thead th {\n",
       "        text-align: right;\n",
       "    }\n",
       "</style>\n",
       "<table border=\"1\" class=\"dataframe\">\n",
       "  <thead>\n",
       "    <tr style=\"text-align: right;\">\n",
       "      <th></th>\n",
       "      <th>Open</th>\n",
       "      <th>High</th>\n",
       "      <th>Low</th>\n",
       "      <th>Close</th>\n",
       "      <th>Adj Close</th>\n",
       "      <th>Volume</th>\n",
       "      <th>Price_pred</th>\n",
       "      <th>EMA10</th>\n",
       "      <th>EMA20</th>\n",
       "    </tr>\n",
       "    <tr>\n",
       "      <th>Date</th>\n",
       "      <th></th>\n",
       "      <th></th>\n",
       "      <th></th>\n",
       "      <th></th>\n",
       "      <th></th>\n",
       "      <th></th>\n",
       "      <th></th>\n",
       "      <th></th>\n",
       "      <th></th>\n",
       "    </tr>\n",
       "  </thead>\n",
       "  <tbody>\n",
       "    <tr>\n",
       "      <th>2021-10-14</th>\n",
       "      <td>0.000029</td>\n",
       "      <td>0.000030</td>\n",
       "      <td>0.000027</td>\n",
       "      <td>0.000027</td>\n",
       "      <td>0.000027</td>\n",
       "      <td>2727081948</td>\n",
       "      <td>0.000029</td>\n",
       "      <td>0.000029</td>\n",
       "      <td>0.000029</td>\n",
       "    </tr>\n",
       "    <tr>\n",
       "      <th>2021-10-15</th>\n",
       "      <td>0.000027</td>\n",
       "      <td>0.000027</td>\n",
       "      <td>0.000023</td>\n",
       "      <td>0.000025</td>\n",
       "      <td>0.000025</td>\n",
       "      <td>4121246428</td>\n",
       "      <td>0.000027</td>\n",
       "      <td>0.000028</td>\n",
       "      <td>0.000028</td>\n",
       "    </tr>\n",
       "    <tr>\n",
       "      <th>2021-10-16</th>\n",
       "      <td>0.000025</td>\n",
       "      <td>0.000027</td>\n",
       "      <td>0.000025</td>\n",
       "      <td>0.000026</td>\n",
       "      <td>0.000026</td>\n",
       "      <td>1871226740</td>\n",
       "      <td>0.000025</td>\n",
       "      <td>0.000027</td>\n",
       "      <td>0.000027</td>\n",
       "    </tr>\n",
       "    <tr>\n",
       "      <th>2021-10-17</th>\n",
       "      <td>0.000026</td>\n",
       "      <td>0.000029</td>\n",
       "      <td>0.000024</td>\n",
       "      <td>0.000028</td>\n",
       "      <td>0.000028</td>\n",
       "      <td>2304858857</td>\n",
       "      <td>0.000026</td>\n",
       "      <td>0.000026</td>\n",
       "      <td>0.000027</td>\n",
       "    </tr>\n",
       "    <tr>\n",
       "      <th>2021-10-18</th>\n",
       "      <td>0.000028</td>\n",
       "      <td>0.000030</td>\n",
       "      <td>0.000026</td>\n",
       "      <td>0.000029</td>\n",
       "      <td>0.000029</td>\n",
       "      <td>3919367323</td>\n",
       "      <td>0.000028</td>\n",
       "      <td>0.000027</td>\n",
       "      <td>0.000027</td>\n",
       "    </tr>\n",
       "    <tr>\n",
       "      <th>...</th>\n",
       "      <td>...</td>\n",
       "      <td>...</td>\n",
       "      <td>...</td>\n",
       "      <td>...</td>\n",
       "      <td>...</td>\n",
       "      <td>...</td>\n",
       "      <td>...</td>\n",
       "      <td>...</td>\n",
       "      <td>...</td>\n",
       "    </tr>\n",
       "    <tr>\n",
       "      <th>2022-10-10</th>\n",
       "      <td>0.000011</td>\n",
       "      <td>0.000011</td>\n",
       "      <td>0.000010</td>\n",
       "      <td>0.000010</td>\n",
       "      <td>0.000010</td>\n",
       "      <td>192456230</td>\n",
       "      <td>0.000011</td>\n",
       "      <td>0.000011</td>\n",
       "      <td>0.000011</td>\n",
       "    </tr>\n",
       "    <tr>\n",
       "      <th>2022-10-11</th>\n",
       "      <td>0.000010</td>\n",
       "      <td>0.000010</td>\n",
       "      <td>0.000010</td>\n",
       "      <td>0.000010</td>\n",
       "      <td>0.000010</td>\n",
       "      <td>225078484</td>\n",
       "      <td>0.000010</td>\n",
       "      <td>0.000011</td>\n",
       "      <td>0.000011</td>\n",
       "    </tr>\n",
       "    <tr>\n",
       "      <th>2022-10-12</th>\n",
       "      <td>0.000010</td>\n",
       "      <td>0.000010</td>\n",
       "      <td>0.000010</td>\n",
       "      <td>0.000010</td>\n",
       "      <td>0.000010</td>\n",
       "      <td>128040822</td>\n",
       "      <td>0.000010</td>\n",
       "      <td>0.000011</td>\n",
       "      <td>0.000011</td>\n",
       "    </tr>\n",
       "    <tr>\n",
       "      <th>2022-10-13</th>\n",
       "      <td>0.000010</td>\n",
       "      <td>0.000011</td>\n",
       "      <td>0.000009</td>\n",
       "      <td>0.000010</td>\n",
       "      <td>0.000010</td>\n",
       "      <td>443708628</td>\n",
       "      <td>0.000010</td>\n",
       "      <td>0.000011</td>\n",
       "      <td>0.000011</td>\n",
       "    </tr>\n",
       "    <tr>\n",
       "      <th>2022-10-14</th>\n",
       "      <td>0.000010</td>\n",
       "      <td>0.000011</td>\n",
       "      <td>0.000010</td>\n",
       "      <td>0.000010</td>\n",
       "      <td>0.000010</td>\n",
       "      <td>423981312</td>\n",
       "      <td>0.000010</td>\n",
       "      <td>0.000010</td>\n",
       "      <td>0.000011</td>\n",
       "    </tr>\n",
       "  </tbody>\n",
       "</table>\n",
       "<p>366 rows × 9 columns</p>\n",
       "</div>"
      ],
      "text/plain": [
       "                Open      High       Low     Close  Adj Close      Volume  \\\n",
       "Date                                                                        \n",
       "2021-10-14  0.000029  0.000030  0.000027  0.000027   0.000027  2727081948   \n",
       "2021-10-15  0.000027  0.000027  0.000023  0.000025   0.000025  4121246428   \n",
       "2021-10-16  0.000025  0.000027  0.000025  0.000026   0.000026  1871226740   \n",
       "2021-10-17  0.000026  0.000029  0.000024  0.000028   0.000028  2304858857   \n",
       "2021-10-18  0.000028  0.000030  0.000026  0.000029   0.000029  3919367323   \n",
       "...              ...       ...       ...       ...        ...         ...   \n",
       "2022-10-10  0.000011  0.000011  0.000010  0.000010   0.000010   192456230   \n",
       "2022-10-11  0.000010  0.000010  0.000010  0.000010   0.000010   225078484   \n",
       "2022-10-12  0.000010  0.000010  0.000010  0.000010   0.000010   128040822   \n",
       "2022-10-13  0.000010  0.000011  0.000009  0.000010   0.000010   443708628   \n",
       "2022-10-14  0.000010  0.000011  0.000010  0.000010   0.000010   423981312   \n",
       "\n",
       "            Price_pred     EMA10     EMA20  \n",
       "Date                                        \n",
       "2021-10-14    0.000029  0.000029  0.000029  \n",
       "2021-10-15    0.000027  0.000028  0.000028  \n",
       "2021-10-16    0.000025  0.000027  0.000027  \n",
       "2021-10-17    0.000026  0.000026  0.000027  \n",
       "2021-10-18    0.000028  0.000027  0.000027  \n",
       "...                ...       ...       ...  \n",
       "2022-10-10    0.000011  0.000011  0.000011  \n",
       "2022-10-11    0.000010  0.000011  0.000011  \n",
       "2022-10-12    0.000010  0.000011  0.000011  \n",
       "2022-10-13    0.000010  0.000011  0.000011  \n",
       "2022-10-14    0.000010  0.000010  0.000011  \n",
       "\n",
       "[366 rows x 9 columns]"
      ]
     },
     "execution_count": 27,
     "metadata": {},
     "output_type": "execute_result"
    }
   ],
   "source": [
    "df['Price_pred'] = pd.to_numeric(Y_pred)\n",
    "df"
   ]
  },
  {
   "cell_type": "code",
   "execution_count": 28,
   "id": "e9698a29",
   "metadata": {},
   "outputs": [
    {
     "name": "stderr",
     "output_type": "stream",
     "text": [
      "C:\\Users\\User\\anaconda3\\lib\\site-packages\\sklearn\\metrics\\_regression.py:96: FutureWarning: Arrays of bytes/strings is being converted to decimal numbers if dtype='numeric'. This behavior is deprecated in 0.24 and will be removed in 1.1 (renaming of 0.26). Please convert your data to numeric values explicitly instead.\n",
      "  y_pred = check_array(y_pred, ensure_2d=False, dtype=dtype)\n"
     ]
    }
   ],
   "source": [
    "mse = mean_squared_error(Y, Y_pred)\n",
    "rmse = np.sqrt(mse)\n",
    "r2_score = reg.score(X, Y)"
   ]
  },
  {
   "cell_type": "code",
   "execution_count": 29,
   "id": "d4984094",
   "metadata": {},
   "outputs": [
    {
     "name": "stdout",
     "output_type": "stream",
     "text": [
      "0.9596936206838471\n",
      "2.698154130499395e-06\n"
     ]
    }
   ],
   "source": [
    "print(r2_score)\n",
    "print(np.sqrt(mse))"
   ]
  },
  {
   "cell_type": "code",
   "execution_count": 30,
   "id": "928df4cc",
   "metadata": {},
   "outputs": [
    {
     "data": {
      "text/plain": [
       "<AxesSubplot:xlabel='Date'>"
      ]
     },
     "execution_count": 30,
     "metadata": {},
     "output_type": "execute_result"
    },
    {
     "data": {
      "image/png": "[encoded data removed]",
      "text/plain": [
       "<Figure size 1152x576 with 1 Axes>"
      ]
     },
     "metadata": {
      "needs_background": "light"
     },
     "output_type": "display_data"
    }
   ],
   "source": [
    "df[['Close', 'Price_pred']].plot(label = 'SHIB M.A', figsize = (16, 8))"
   ]
  },
  {
   "cell_type": "code",
   "execution_count": null,
   "id": "b3502ece",
   "metadata": {},
   "outputs": [],
   "source": []
  },
  {
   "cell_type": "code",
   "execution_count": null,
   "id": "e2d292eb",
   "metadata": {},
   "outputs": [],
   "source": []
  },
  {
   "cell_type": "code",
   "execution_count": null,
   "id": "4bbce2ae",
   "metadata": {},
   "outputs": [],
   "source": []
  },
  {
   "cell_type": "code",
   "execution_count": null,
   "id": "64517d6f",
   "metadata": {},
   "outputs": [],
   "source": []
  }
 ],
 "metadata": {
  "kernelspec": {
   "display_name": "Python 3 (ipykernel)",
   "language": "python",
   "name": "python3"
  },
  "language_info": {
   "codemirror_mode": {
    "name": "ipython",
    "version": 3
   },
   "file_extension": ".py",
   "mimetype": "text/x-python",
   "name": "python",
   "nbconvert_exporter": "python",
   "pygments_lexer": "ipython3",
   "version": "3.9.12"
  }
 },
 "nbformat": 4,
 "nbformat_minor": 5
}
